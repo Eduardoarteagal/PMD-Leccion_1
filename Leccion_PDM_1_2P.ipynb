{
  "nbformat": 4,
  "nbformat_minor": 0,
  "metadata": {
    "colab": {
      "provenance": [],
      "authorship_tag": "ABX9TyOjtAgWGSO2UBTfmdDD7uWn",
      "include_colab_link": true
    },
    "kernelspec": {
      "name": "python3",
      "display_name": "Python 3"
    },
    "language_info": {
      "name": "python"
    }
  },
  "cells": [
    {
      "cell_type": "markdown",
      "metadata": {
        "id": "view-in-github",
        "colab_type": "text"
      },
      "source": [
        "<a href=\"https://colab.research.google.com/github/Eduardoarteagal/PMD-Leccion_1/blob/main/Leccion_PDM_1_2P.ipynb\" target=\"_parent\"><img src=\"https://colab.research.google.com/assets/colab-badge.svg\" alt=\"Open In Colab\"/></a>"
      ]
    },
    {
      "cell_type": "code",
      "execution_count": 1,
      "metadata": {
        "colab": {
          "base_uri": "https://localhost:8080/"
        },
        "id": "B8tpvndEfYVZ",
        "outputId": "12591f6a-07ae-49fe-f22c-2b773bd66b6a"
      },
      "outputs": [
        {
          "output_type": "stream",
          "name": "stdout",
          "text": [
            "Collecting pyspark\n",
            "  Downloading pyspark-3.5.1.tar.gz (317.0 MB)\n",
            "\u001b[2K     \u001b[90m━━━━━━━━━━━━━━━━━━━━━━━━━━━━━━━━━━━━━━━━\u001b[0m \u001b[32m317.0/317.0 MB\u001b[0m \u001b[31m3.3 MB/s\u001b[0m eta \u001b[36m0:00:00\u001b[0m\n",
            "\u001b[?25h  Preparing metadata (setup.py) ... \u001b[?25l\u001b[?25hdone\n",
            "Requirement already satisfied: py4j==0.10.9.7 in /usr/local/lib/python3.10/dist-packages (from pyspark) (0.10.9.7)\n",
            "Building wheels for collected packages: pyspark\n",
            "  Building wheel for pyspark (setup.py) ... \u001b[?25l\u001b[?25hdone\n",
            "  Created wheel for pyspark: filename=pyspark-3.5.1-py2.py3-none-any.whl size=317488491 sha256=fe82bb3dd348f3f19dee6e1317db000c7e826e65386ef3b04967e047a118bc58\n",
            "  Stored in directory: /root/.cache/pip/wheels/80/1d/60/2c256ed38dddce2fdd93be545214a63e02fbd8d74fb0b7f3a6\n",
            "Successfully built pyspark\n",
            "Installing collected packages: pyspark\n",
            "Successfully installed pyspark-3.5.1\n"
          ]
        }
      ],
      "source": [
        "!pip install pyspark"
      ]
    },
    {
      "cell_type": "code",
      "source": [
        "from pyspark.sql import SparkSession\n",
        "from pyspark import SparkContext, SparkConf\n",
        "\n",
        "conf = SparkConf().setAppName(\"Leccion\").setMaster(\"local[*]\")\n",
        "sc = SparkContext(conf=conf)"
      ],
      "metadata": {
        "id": "bGlxtWMuftJP"
      },
      "execution_count": 2,
      "outputs": []
    },
    {
      "cell_type": "code",
      "source": [
        "#1.- Crea 3 RDD de pares, uno para cada asignatura, con los alumnos y sus notas\n",
        "rdd_matematicas = sc.textFile(\"/content/notas_mate.txt\").map(lambda linea: linea.split(\",\")).map(lambda x: (x[0], float(x[1])))\n",
        "rdd_ingles = sc.textFile(\"/content/notas_ingles.txt\").map(lambda linea: linea.split(\",\")).map(lambda x: (x[0], float(x[1])))\n",
        "rdd_fisica = sc.textFile(\"/content/notas_fisica.txt\").map(lambda linea: linea.split(\",\")).map(lambda x: (x[0], float(x[1])))"
      ],
      "metadata": {
        "id": "y62ZMNpT5M8o"
      },
      "execution_count": 21,
      "outputs": []
    },
    {
      "cell_type": "code",
      "source": [
        "#2.- Crea un solo RDD con todas las notas\n",
        "rdd_notas_generales = rdd_matematicas.union(rdd_ingles).union(rdd_fisica)\n",
        "rdd_notas_generales.collect()"
      ],
      "metadata": {
        "colab": {
          "base_uri": "https://localhost:8080/"
        },
        "id": "WqVPEmSKgRx0",
        "outputId": "89750533-be41-4419-b43e-eea7ca62334e"
      },
      "execution_count": 22,
      "outputs": [
        {
          "output_type": "execute_result",
          "data": {
            "text/plain": [
              "[('Angel', 6.0),\n",
              " ('Maria', 2.0),\n",
              " ('Ramon', 4.5),\n",
              " ('Jorge', 10.0),\n",
              " ('Susana', 9.0),\n",
              " ('Anabel', 8.0),\n",
              " ('Pedro', 5.0),\n",
              " ('Rocio', 6.0),\n",
              " ('Carlos', 4.0),\n",
              " ('Triana', 3.0),\n",
              " ('Andres', 4.0),\n",
              " ('Fernando', 5.0),\n",
              " ('Leonardo', 1.0),\n",
              " ('Oscar', 7.0),\n",
              " ('Isabel', 8.0),\n",
              " ('Jose Juan', 5.0),\n",
              " ('Nicolas', 2.0),\n",
              " ('Alejandro', 5.0),\n",
              " ('Rosa', 6.0),\n",
              " ('Angel', 4.0),\n",
              " ('Maria', 6.0),\n",
              " ('Ramon', 8.0),\n",
              " ('Jorge', 5.0),\n",
              " ('Susana', 2.0),\n",
              " ('Anabel', 7.0),\n",
              " ('Rocio', 4.0),\n",
              " ('Carlos', 8.0),\n",
              " ('Triana', 4.0),\n",
              " ('Andres', 6.0),\n",
              " ('Fernando', 7.0),\n",
              " ('Leonardo', 4.0),\n",
              " ('Oscar', 3.0),\n",
              " ('Isabel', 7.0),\n",
              " ('Jose Juan', 3.0),\n",
              " ('Nicolas', 5.0),\n",
              " ('Alejandro', 7.0),\n",
              " ('Rosa', 9.0),\n",
              " ('Angel', 9.0),\n",
              " ('Maria', 3.0),\n",
              " ('Ramon', 7.0),\n",
              " ('Jorge', 5.0),\n",
              " ('Susana', 9.0),\n",
              " ('Anabel', 2.0),\n",
              " ('Pedro', 2.0),\n",
              " ('Rocio', 5.0),\n",
              " ('Carlos', 4.0),\n",
              " ('Rocio', 7.0),\n",
              " ('Triana', 3.0),\n",
              " ('Andres', 4.0),\n",
              " ('Fernando', 9.0),\n",
              " ('Leonardo', 6.0),\n",
              " ('Oscar', 5.0),\n",
              " ('Isabel', 8.0),\n",
              " ('Jose Juan', 3.0),\n",
              " ('Nicolas', 7.0),\n",
              " ('Alejandro', 3.0),\n",
              " ('Rosa', 8.0)]"
            ]
          },
          "metadata": {},
          "execution_count": 22
        }
      ]
    },
    {
      "cell_type": "code",
      "source": [
        "#3.- ¿Cuál es la nota más baja que ha tenido cada alumno?\n",
        "notas_mas_baja = rdd_notas_generales.reduceByKey(lambda a, b: min(a, b))\n",
        "notas_mas_baja.collect()"
      ],
      "metadata": {
        "colab": {
          "base_uri": "https://localhost:8080/"
        },
        "id": "wB9L7fbS5fqe",
        "outputId": "9c6ddea3-49ed-4624-c468-68e815048da5"
      },
      "execution_count": 23,
      "outputs": [
        {
          "output_type": "execute_result",
          "data": {
            "text/plain": [
              "[('Angel', 4.0),\n",
              " ('Carlos', 4.0),\n",
              " ('Anabel', 2.0),\n",
              " ('Jorge', 5.0),\n",
              " ('Susana', 2.0),\n",
              " ('Andres', 4.0),\n",
              " ('Jose Juan', 3.0),\n",
              " ('Rocio', 4.0),\n",
              " ('Fernando', 5.0),\n",
              " ('Oscar', 3.0),\n",
              " ('Isabel', 7.0),\n",
              " ('Alejandro', 3.0),\n",
              " ('Ramon', 4.5),\n",
              " ('Pedro', 2.0),\n",
              " ('Leonardo', 1.0),\n",
              " ('Nicolas', 2.0),\n",
              " ('Maria', 2.0),\n",
              " ('Triana', 3.0),\n",
              " ('Rosa', 6.0)]"
            ]
          },
          "metadata": {},
          "execution_count": 23
        }
      ]
    },
    {
      "cell_type": "code",
      "source": [
        "#4.- ¿Cuál es la nota media de cada alumno?\n",
        "suma_notas = rdd_notas_generales.combineByKey(lambda valor: (valor, 1), lambda acumulador, valor: (acumulador[0] + valor, acumulador[1] + 1), lambda acumulador1, acumulador2: (acumulador1[0] + acumulador2[0], acumulador1[1] + acumulador2[1]))\n",
        "notas_promedio = suma_notas.mapValues(lambda x: x[0] / x[1])\n",
        "notas_promedio.collect()"
      ],
      "metadata": {
        "colab": {
          "base_uri": "https://localhost:8080/"
        },
        "id": "BWT_4eg86CXn",
        "outputId": "92d636f0-033b-4b29-f4d0-8eb3ae3ef9c6"
      },
      "execution_count": 24,
      "outputs": [
        {
          "output_type": "execute_result",
          "data": {
            "text/plain": [
              "[('Angel', 6.333333333333333),\n",
              " ('Carlos', 5.333333333333333),\n",
              " ('Anabel', 5.666666666666667),\n",
              " ('Jorge', 6.666666666666667),\n",
              " ('Susana', 6.666666666666667),\n",
              " ('Andres', 4.666666666666667),\n",
              " ('Jose Juan', 3.6666666666666665),\n",
              " ('Rocio', 5.5),\n",
              " ('Fernando', 7.0),\n",
              " ('Oscar', 5.0),\n",
              " ('Isabel', 7.666666666666667),\n",
              " ('Alejandro', 5.0),\n",
              " ('Ramon', 6.5),\n",
              " ('Pedro', 3.5),\n",
              " ('Leonardo', 3.6666666666666665),\n",
              " ('Nicolas', 4.666666666666667),\n",
              " ('Maria', 3.6666666666666665),\n",
              " ('Triana', 3.3333333333333335),\n",
              " ('Rosa', 7.666666666666667)]"
            ]
          },
          "metadata": {},
          "execution_count": 24
        }
      ]
    },
    {
      "cell_type": "code",
      "source": [
        "#5.- ¿Cuantos estudiantes suspende cada asignatura? (Suspende con notas menores a 5)\n",
        "#[('Mates', 7), ('Física', 8), ('Inglés', 7)]\n",
        "suspensos_mates = rdd_matematicas.filter(lambda x: x[1] < 5).count()\n",
        "suspensos_ingles = rdd_ingles.filter(lambda x: x[1] < 5).count()\n",
        "suspensos_fisica = rdd_fisica.filter(lambda x: x[1] < 5).count()\n",
        "\n",
        "resultado = [('Mates', suspensos_mates), ('Física', suspensos_fisica), ('Inglés', suspensos_ingles)]\n",
        "print(resultado)"
      ],
      "metadata": {
        "colab": {
          "base_uri": "https://localhost:8080/"
        },
        "id": "_ZldRBNE6Jt5",
        "outputId": "d32809ae-90b4-4d5e-ac2a-677590200284"
      },
      "execution_count": 25,
      "outputs": [
        {
          "output_type": "stream",
          "name": "stdout",
          "text": [
            "[('Mates', 7), ('Física', 8), ('Inglés', 7)]\n"
          ]
        }
      ]
    }
  ]
}